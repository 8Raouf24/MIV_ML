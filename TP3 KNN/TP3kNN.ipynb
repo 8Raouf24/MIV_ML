{
  "nbformat": 4,
  "nbformat_minor": 0,
  "metadata": {
    "colab": {
      "name": "TP3kNN.ipynb",
      "provenance": [],
      "collapsed_sections": []
    },
    "kernelspec": {
      "name": "python3",
      "display_name": "Python 3"
    }
  },
  "cells": [
    {
      "cell_type": "code",
      "metadata": {
        "id": "L8Jp9YMEQzIu"
      },
      "source": [
        "from sklearn.model_selection import train_test_split\n",
        "import matplotlib.pyplot as plt\n",
        "import time\n",
        "import numpy as np\n",
        "import seaborn as sns\n",
        "from matplotlib.colors import ListedColormap\n",
        "from sklearn import neighbors, datasets,metrics"
      ],
      "execution_count": null,
      "outputs": []
    },
    {
      "cell_type": "code",
      "metadata": {
        "colab": {
          "base_uri": "https://localhost:8080/",
          "height": 235
        },
        "id": "gJu3fvFcRQSU",
        "outputId": "a3642ee6-c6ef-4222-916d-2fa2ea945885"
      },
      "source": [
        "info = digits.DESCR\n",
        "info.split('\\n')\n",
        "\"\"\"\n",
        "Taille du data set : 5620 instances \n",
        "Nombres de classes : 10\n",
        "Nombres d'attribut : 64\n",
        "\n",
        "\"\"\"\n"
      ],
      "execution_count": null,
      "outputs": [
        {
          "output_type": "error",
          "ename": "NameError",
          "evalue": "ignored",
          "traceback": [
            "\u001b[0;31m---------------------------------------------------------------------------\u001b[0m",
            "\u001b[0;31mNameError\u001b[0m                                 Traceback (most recent call last)",
            "\u001b[0;32m<ipython-input-2-ac910aeb6a18>\u001b[0m in \u001b[0;36m<module>\u001b[0;34m()\u001b[0m\n\u001b[0;32m----> 1\u001b[0;31m \u001b[0minfo\u001b[0m \u001b[0;34m=\u001b[0m \u001b[0mdigits\u001b[0m\u001b[0;34m.\u001b[0m\u001b[0mDESCR\u001b[0m\u001b[0;34m\u001b[0m\u001b[0;34m\u001b[0m\u001b[0m\n\u001b[0m\u001b[1;32m      2\u001b[0m \u001b[0minfo\u001b[0m\u001b[0;34m.\u001b[0m\u001b[0msplit\u001b[0m\u001b[0;34m(\u001b[0m\u001b[0;34m'\\n'\u001b[0m\u001b[0;34m)\u001b[0m\u001b[0;34m\u001b[0m\u001b[0;34m\u001b[0m\u001b[0m\n\u001b[1;32m      3\u001b[0m \"\"\"\n\u001b[1;32m      4\u001b[0m \u001b[0mTaille\u001b[0m \u001b[0mdu\u001b[0m \u001b[0mdata\u001b[0m \u001b[0mset\u001b[0m \u001b[0;34m:\u001b[0m \u001b[0;36m5620\u001b[0m \u001b[0minstances\u001b[0m\u001b[0;34m\u001b[0m\u001b[0;34m\u001b[0m\u001b[0m\n\u001b[1;32m      5\u001b[0m \u001b[0mNombres\u001b[0m \u001b[0mde\u001b[0m \u001b[0mclasses\u001b[0m \u001b[0;34m:\u001b[0m \u001b[0;36m10\u001b[0m\u001b[0;34m\u001b[0m\u001b[0;34m\u001b[0m\u001b[0m\n",
            "\u001b[0;31mNameError\u001b[0m: name 'digits' is not defined"
          ]
        }
      ]
    },
    {
      "cell_type": "code",
      "metadata": {
        "id": "aFUuTjQnRGK-"
      },
      "source": [
        "X_digits,Y_digits = load_digits(return_X_y=True)\n",
        "X_digits = X_digits / X_digits.max()\n",
        "X_train, X_test, y_train, y_test = train_test_split(\n",
        "    X_digits, Y_digits, test_size=0.3, shuffle=False)"
      ],
      "execution_count": null,
      "outputs": []
    },
    {
      "cell_type": "markdown",
      "metadata": {
        "id": "gHCfgKTJg-hk"
      },
      "source": [
        "K = 3\n"
      ]
    },
    {
      "cell_type": "code",
      "metadata": {
        "colab": {
          "base_uri": "https://localhost:8080/"
        },
        "id": "QIw2-svPRazM",
        "outputId": "2fbddd28-9c00-4147-8769-78972ef7ffcd"
      },
      "source": [
        "#K = 3 \n",
        "start = time.time()\n",
        "#distance\n",
        "neigh = KNeighborsClassifier(n_neighbors=3)\n",
        "print(neigh.fit(X_train,y_train))\n",
        "\n",
        "y_pred = neigh.predict(X_test)\n",
        "end = time.time()\n",
        "accuracy = accuracy_score(y_test, y_pred, normalize=False)\n",
        "rappel = recall_score(y_test,y_pred,average='macro')\n",
        "fin = time.time()\n",
        "print(f\" Temps d'execution avec le fit : {end - start} secondes\\n Temps d'execution avec le testing : {fin-start}\\n Précision: {accuracy}\\n Rappel: {rappel}\")\n"
      ],
      "execution_count": null,
      "outputs": [
        {
          "output_type": "stream",
          "text": [
            "KNeighborsClassifier(algorithm='auto', leaf_size=30, metric='minkowski',\n",
            "                     metric_params=None, n_jobs=None, n_neighbors=3, p=2,\n",
            "                     weights='uniform')\n",
            " Temps d'execution avec le fit : 0.26703405380249023 secondes\n",
            " Temps d'execution avec le testing : 0.2685084342956543\n",
            " Précision: 524\n",
            " Rappel: 0.9704428813490382\n"
          ],
          "name": "stdout"
        }
      ]
    },
    {
      "cell_type": "code",
      "metadata": {
        "colab": {
          "base_uri": "https://localhost:8080/",
          "height": 499
        },
        "id": "fX4eW2MnSfER",
        "outputId": "0e45cccd-e02d-4e3e-bcb0-85145cfa7c60"
      },
      "source": [
        "#Pour le ploting nous utiliserons la matrice de confusion\n",
        "disp = metrics.plot_confusion_matrix(neigh, X_test, y_test)\n",
        "disp.figure_.suptitle(\"Confusion Matrix\")\n",
        "print(f\"Confusion matrix:\\n{disp.confusion_matrix}\")\n",
        "\n",
        "plt.show()"
      ],
      "execution_count": null,
      "outputs": [
        {
          "output_type": "stream",
          "text": [
            "Confusion matrix:\n",
            "[[52  0  0  0  1  0  0  0  0  0]\n",
            " [ 0 53  0  0  0  0  0  0  0  0]\n",
            " [ 1  0 51  1  0  0  0  0  0  0]\n",
            " [ 0  0  1 49  0  1  0  1  1  0]\n",
            " [ 0  0  0  0 54  0  0  1  1  1]\n",
            " [ 0  0  0  0  0 55  1  0  0  0]\n",
            " [ 0  0  0  0  0  0 54  0  0  0]\n",
            " [ 0  0  0  0  0  0  0 54  0  0]\n",
            " [ 0  2  0  0  0  0  0  0 50  0]\n",
            " [ 0  0  0  1  0  2  0  0  0 52]]\n"
          ],
          "name": "stdout"
        },
        {
          "output_type": "display_data",
          "data": {
            "image/png": "[encoded data removed]",
            "text/plain": [
              "<Figure size 432x288 with 2 Axes>"
            ]
          },
          "metadata": {
            "tags": [],
            "needs_background": "light"
          }
        }
      ]
    },
    {
      "cell_type": "markdown",
      "metadata": {
        "id": "vm8IltmnhBP1"
      },
      "source": [
        "K = 1"
      ]
    },
    {
      "cell_type": "code",
      "metadata": {
        "colab": {
          "base_uri": "https://localhost:8080/"
        },
        "id": "51c97ZvOhFoT",
        "outputId": "60370ac8-d81d-4768-edb1-7703903333ce"
      },
      "source": [
        "#K = 1\n",
        "start = time.time()\n",
        "#distance\n",
        "neigh = KNeighborsClassifier(n_neighbors=1)\n",
        "print(neigh.fit(X_train,y_train))\n",
        "\n",
        "y_pred = neigh.predict(X_test)\n",
        "end = time.time()\n",
        "accuracy = accuracy_score(y_test, y_pred, normalize=False)\n",
        "rappel = recall_score(y_test,y_pred,average='macro')\n",
        "fin = time.time()\n",
        "print(f\" Temps d'execution avec le fit : {end - start} secondes\\n Temps d'execution avec le testing : {fin-start}\\n Précision: {accuracy}\\n Rappel: {rappel}\")\n"
      ],
      "execution_count": null,
      "outputs": [
        {
          "output_type": "stream",
          "text": [
            "KNeighborsClassifier(algorithm='auto', leaf_size=30, metric='minkowski',\n",
            "                     metric_params=None, n_jobs=None, n_neighbors=1, p=2,\n",
            "                     weights='uniform')\n",
            " Temps d'execution avec le fit : 0.10617756843566895 secondes\n",
            " Temps d'execution avec le testing : 0.10762810707092285\n",
            " Précision: 519\n",
            " Rappel: 0.9608637812039003\n"
          ],
          "name": "stdout"
        }
      ]
    },
    {
      "cell_type": "code",
      "metadata": {
        "colab": {
          "base_uri": "https://localhost:8080/",
          "height": 499
        },
        "id": "OUWIVmhDhMCc",
        "outputId": "9a35a7a7-fe4a-4d13-f446-bb796f17b284"
      },
      "source": [
        "disp = metrics.plot_confusion_matrix(neigh, X_test, y_test)\n",
        "disp.figure_.suptitle(\"Confusion Matrix\")\n",
        "print(f\"Confusion matrix:\\n{disp.confusion_matrix}\")\n",
        "\n",
        "plt.show()"
      ],
      "execution_count": null,
      "outputs": [
        {
          "output_type": "stream",
          "text": [
            "Confusion matrix:\n",
            "[[52  0  0  0  1  0  0  0  0  0]\n",
            " [ 0 53  0  0  0  0  0  0  0  0]\n",
            " [ 1  0 52  0  0  0  0  0  0  0]\n",
            " [ 0  0  0 47  0  2  0  1  2  1]\n",
            " [ 0  0  0  0 54  0  0  0  0  3]\n",
            " [ 0  0  0  0  0 55  1  0  0  0]\n",
            " [ 0  0  0  0  0  0 54  0  0  0]\n",
            " [ 0  0  0  0  0  0  0 54  0  0]\n",
            " [ 0  5  0  0  0  0  0  0 46  1]\n",
            " [ 0  0  0  1  0  2  0  0  0 52]]\n"
          ],
          "name": "stdout"
        },
        {
          "output_type": "display_data",
          "data": {
            "image/png": "[encoded data removed]",
            "text/plain": [
              "<Figure size 432x288 with 2 Axes>"
            ]
          },
          "metadata": {
            "tags": [],
            "needs_background": "light"
          }
        }
      ]
    },
    {
      "cell_type": "markdown",
      "metadata": {
        "id": "K5em-3uxhDeH"
      },
      "source": [
        "K = 5"
      ]
    },
    {
      "cell_type": "code",
      "metadata": {
        "colab": {
          "base_uri": "https://localhost:8080/"
        },
        "id": "RUU16ncjhHC8",
        "outputId": "16aed9e4-62e1-4205-fbfc-708d4e57eb8a"
      },
      "source": [
        "#K = 5\n",
        "start = time.time()\n",
        "#distance\n",
        "neigh = KNeighborsClassifier(n_neighbors=5)\n",
        "print(neigh.fit(X_train,y_train))\n",
        "\n",
        "y_pred = neigh.predict(X_test)\n",
        "end = time.time()\n",
        "accuracy = accuracy_score(y_test, y_pred, normalize=False)\n",
        "rappel = recall_score(y_test,y_pred,average='macro')\n",
        "fin = time.time()\n",
        "print(f\" Temps d'execution avec le fit : {end - start} secondes\\n Temps d'execution avec le testing : {fin-start}\\n Précision: {accuracy}\\n Rappel: {rappel}\")\n"
      ],
      "execution_count": null,
      "outputs": [
        {
          "output_type": "stream",
          "text": [
            "KNeighborsClassifier(algorithm='auto', leaf_size=30, metric='minkowski',\n",
            "                     metric_params=None, n_jobs=None, n_neighbors=5, p=2,\n",
            "                     weights='uniform')\n",
            " Temps d'execution avec le fit : 0.11005401611328125 secondes\n",
            " Temps d'execution avec le testing : 0.11142396926879883\n",
            " Précision: 521\n",
            " Rappel: 0.9645412440918895\n"
          ],
          "name": "stdout"
        }
      ]
    },
    {
      "cell_type": "code",
      "metadata": {
        "colab": {
          "base_uri": "https://localhost:8080/",
          "height": 499
        },
        "id": "9ST2_tVIhQpN",
        "outputId": "d673b285-8520-4085-a308-f4ec29927a4d"
      },
      "source": [
        "disp = metrics.plot_confusion_matrix(neigh, X_test, y_test)\n",
        "disp.figure_.suptitle(\"Confusion Matrix\")\n",
        "print(f\"Confusion matrix:\\n{disp.confusion_matrix}\")\n",
        "\n",
        "plt.show()"
      ],
      "execution_count": null,
      "outputs": [
        {
          "output_type": "stream",
          "text": [
            "Confusion matrix:\n",
            "[[52  0  0  0  1  0  0  0  0  0]\n",
            " [ 0 52  0  0  0  0  0  0  0  1]\n",
            " [ 1  0 51  1  0  0  0  0  0  0]\n",
            " [ 0  0  1 49  0  1  0  1  1  0]\n",
            " [ 0  0  0  0 55  0  0  1  1  0]\n",
            " [ 0  0  0  0  0 55  1  0  0  0]\n",
            " [ 0  0  0  0  0  0 54  0  0  0]\n",
            " [ 0  0  0  0  0  0  0 54  0  0]\n",
            " [ 0  3  0  0  0  0  0  1 47  1]\n",
            " [ 0  0  0  1  0  2  0  0  0 52]]\n"
          ],
          "name": "stdout"
        },
        {
          "output_type": "display_data",
          "data": {
            "image/png": "[encoded data removed]",
            "text/plain": [
              "<Figure size 432x288 with 2 Axes>"
            ]
          },
          "metadata": {
            "tags": [],
            "needs_background": "light"
          }
        }
      ]
    },
    {
      "cell_type": "markdown",
      "metadata": {
        "id": "cdH7pFi_hEiY"
      },
      "source": [
        "K = 7"
      ]
    },
    {
      "cell_type": "code",
      "metadata": {
        "colab": {
          "base_uri": "https://localhost:8080/"
        },
        "id": "3I57Pgx5hC27",
        "outputId": "51c95cc8-7adb-4516-f731-d20c98c8dc7a"
      },
      "source": [
        "#K = 7\n",
        "start = time.time()\n",
        "#distance\n",
        "neigh = KNeighborsClassifier(n_neighbors=7)\n",
        "print(neigh.fit(X_train,y_train))\n",
        "\n",
        "y_pred = neigh.predict(X_test)\n",
        "end = time.time()\n",
        "accuracy = accuracy_score(y_test, y_pred, normalize=False)\n",
        "rappel = recall_score(y_test,y_pred,average='macro')\n",
        "fin = time.time()\n",
        "print(f\" Temps d'execution avec le fit : {end - start} secondes\\n Temps d'execution avec le testing : {fin-start}\\n Précision: {accuracy}\\n Rappel: {rappel}\")\n"
      ],
      "execution_count": null,
      "outputs": [
        {
          "output_type": "stream",
          "text": [
            "KNeighborsClassifier(algorithm='auto', leaf_size=30, metric='minkowski',\n",
            "                     metric_params=None, n_jobs=None, n_neighbors=7, p=2,\n",
            "                     weights='uniform')\n",
            " Temps d'execution avec le fit : 0.11294865608215332 secondes\n",
            " Temps d'execution avec le testing : 0.11436033248901367\n",
            " Précision: 519\n",
            " Rappel: 0.9608637812039003\n"
          ],
          "name": "stdout"
        }
      ]
    },
    {
      "cell_type": "code",
      "metadata": {
        "colab": {
          "base_uri": "https://localhost:8080/",
          "height": 499
        },
        "id": "JfA6_3ULhU-b",
        "outputId": "46b26ea0-a64d-432b-df9a-fca3bd2084be"
      },
      "source": [
        "disp = metrics.plot_confusion_matrix(neigh, X_test, y_test)\n",
        "disp.figure_.suptitle(\"Confusion Matrix\")\n",
        "print(f\"Confusion matrix:\\n{disp.confusion_matrix}\")\n",
        "\n",
        "plt.show()"
      ],
      "execution_count": null,
      "outputs": [
        {
          "output_type": "stream",
          "text": [
            "Confusion matrix:\n",
            "[[53  0  0  0  0  0  0  0  0  0]\n",
            " [ 0 52  0  0  0  0  0  0  0  1]\n",
            " [ 1  0 51  1  0  0  0  0  0  0]\n",
            " [ 0  0  0 48  0  1  0  2  2  0]\n",
            " [ 0  0  0  0 54  0  0  0  2  1]\n",
            " [ 0  0  0  0  0 55  1  0  0  0]\n",
            " [ 0  0  0  0  0  0 54  0  0  0]\n",
            " [ 0  0  0  0  0  0  0 54  0  0]\n",
            " [ 0  4  0  0  0  0  0  1 46  1]\n",
            " [ 0  0  0  1  0  2  0  0  0 52]]\n"
          ],
          "name": "stdout"
        },
        {
          "output_type": "display_data",
          "data": {
            "image/png": "[encoded data removed]",
            "text/plain": [
              "<Figure size 432x288 with 2 Axes>"
            ]
          },
          "metadata": {
            "tags": [],
            "needs_background": "light"
          }
        }
      ]
    }
  ]
}