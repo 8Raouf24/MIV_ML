{
  "nbformat": 4,
  "nbformat_minor": 0,
  "metadata": {
    "colab": {
      "name": "Real Perceptron light.ipynb",
      "provenance": [],
      "collapsed_sections": []
    },
    "kernelspec": {
      "name": "python3",
      "display_name": "Python 3"
    }
  },
  "cells": [
    {
      "cell_type": "code",
      "metadata": {
        "id": "jANbf95VbiY0"
      },
      "source": [
        "import numpy as np\n",
        "import random"
      ],
      "execution_count": 1,
      "outputs": []
    },
    {
      "cell_type": "markdown",
      "metadata": {
        "id": "mn1Pp6inYvMx"
      },
      "source": [
        "\n",
        "\n",
        "1.   Génération du dataset\n",
        "\n",
        "\n"
      ]
    },
    {
      "cell_type": "code",
      "metadata": {
        "id": "1pAKw6rCUS6R"
      },
      "source": [
        "#Fonction de création des points \n",
        "def random_numbers(size,bmin,bmax):\n",
        "  exist = set()\n",
        "  points = []\n",
        "  i = 0\n",
        "  while i<size:\n",
        "    x = random.uniform(bmin,bmax)\n",
        "    y = random.uniform(-1,1) \n",
        "    if (x,y) not in exist:\n",
        "      if x>0:\n",
        "        points.append([x,y,1])\n",
        "      else:\n",
        "        points.append([x,y,0])\n",
        "\n",
        "      exist.add((x,y))\n",
        "      i+=1\n",
        "  return points\n",
        "\n"
      ],
      "execution_count": 3,
      "outputs": []
    },
    {
      "cell_type": "code",
      "metadata": {
        "colab": {
          "base_uri": "https://localhost:8080/"
        },
        "id": "dBfSZBpajKWO",
        "outputId": "4f36c1b8-2a37-4624-b1ff-ba7314f55e75"
      },
      "source": [
        "input = random_numbers(50,-1,1)\n",
        "input[0]"
      ],
      "execution_count": 8,
      "outputs": [
        {
          "output_type": "execute_result",
          "data": {
            "text/plain": [
              "[-0.4695272808561435, 0.6746284438458532, 0]"
            ]
          },
          "metadata": {
            "tags": []
          },
          "execution_count": 8
        }
      ]
    },
    {
      "cell_type": "markdown",
      "metadata": {
        "id": "mICg4mNnkw-C"
      },
      "source": [
        "2.   Création et training de notre modèle de perceptron\n",
        "Ici nous allons créer notre classe \" Perceptron \" qui contiendra deux fonctions:\n",
        "\n",
        "\n",
        "*   La fonction \"predict\" qui effectuera du coup les prédictions en utilisant les paramètres données\n",
        "*   La fonction \"train_weights\" qui se chargera de paramètrer les weights selon les résultats des prédictions.\n",
        "\n",
        "N.B : Le premier élément du tableau weights représentera notre biais \n",
        "\n",
        "\n",
        "\n"
      ]
    },
    {
      "cell_type": "code",
      "metadata": {
        "id": "KJ9CfJ4rH5jH"
      },
      "source": [
        "\n",
        "\n",
        "class Perceptron():\n",
        "  def __init__(self,nb_weight):\n",
        "    self.nb_weight = nb_weight\n",
        "    \n",
        "\n",
        "  # On utilise les poids pour la p\n",
        "  def predict(self,row, weights):\n",
        "    activation = weights[0]\n",
        "    for i in range(len(row)-1):\n",
        "      activation += weights[i + 1] * row[i]\n",
        "    return 1.0 if activation >= 0.0 else 0.0\n",
        "  \n",
        "  \"\"\"Voici la fonction qui nous permettra d'evaluer nos weights en utilisant\n",
        "     La descente de gradient stochastic\n",
        "     \n",
        "      \"\"\"\n",
        "  def train_weights(self,dataset, l_rate, n_epoch):\n",
        "    #Le premier element de la liste représentera le biais\n",
        "  \tweights = [random.random() for i in range(self.nb_weight)]\n",
        "  \tfor epoch in range(n_epoch):\n",
        "  \t\tsum_error = 0.0\n",
        "  \t\tfor row in dataset:\n",
        "  \t\t\tprediction = predict(row, weights)\n",
        "  \t\t\terror = row[-1] - prediction\n",
        "  \t\t\tsum_error += error**2\n",
        "  \t\t\tweights[0] = weights[0] + l_rate * error\n",
        "  \t\t\tfor i in range(len(row)-1):\n",
        "  \t\t\t\tweights[i + 1] = weights[i + 1] + l_rate * error * row[i]\n",
        "  \t\tprint('>epoch=%d, lrate=%.3f, error=%.3f' % (epoch, l_rate, sum_error))\n",
        "  \treturn weights\n",
        "\n"
      ],
      "execution_count": 15,
      "outputs": []
    },
    {
      "cell_type": "code",
      "metadata": {
        "colab": {
          "base_uri": "https://localhost:8080/"
        },
        "id": "US5DJS32G0qn",
        "outputId": "d5bce68a-be55-433c-e5a4-80a582aeb33b"
      },
      "source": [
        "model = Perceptron(3)\n",
        "model.train_weights(input,0.1,20) # Learning rate = 0.1 / Nb_epochs = 20\n"
      ],
      "execution_count": 16,
      "outputs": [
        {
          "output_type": "stream",
          "text": [
            ">epoch=0, lrate=0.100, error=9.000\n",
            ">epoch=1, lrate=0.100, error=2.000\n",
            ">epoch=2, lrate=0.100, error=1.000\n",
            ">epoch=3, lrate=0.100, error=0.000\n",
            ">epoch=4, lrate=0.100, error=0.000\n",
            ">epoch=5, lrate=0.100, error=0.000\n",
            ">epoch=6, lrate=0.100, error=0.000\n",
            ">epoch=7, lrate=0.100, error=0.000\n",
            ">epoch=8, lrate=0.100, error=0.000\n",
            ">epoch=9, lrate=0.100, error=0.000\n",
            ">epoch=10, lrate=0.100, error=0.000\n",
            ">epoch=11, lrate=0.100, error=0.000\n",
            ">epoch=12, lrate=0.100, error=0.000\n",
            ">epoch=13, lrate=0.100, error=0.000\n",
            ">epoch=14, lrate=0.100, error=0.000\n",
            ">epoch=15, lrate=0.100, error=0.000\n",
            ">epoch=16, lrate=0.100, error=0.000\n",
            ">epoch=17, lrate=0.100, error=0.000\n",
            ">epoch=18, lrate=0.100, error=0.000\n",
            ">epoch=19, lrate=0.100, error=0.000\n"
          ],
          "name": "stdout"
        },
        {
          "output_type": "execute_result",
          "data": {
            "text/plain": [
              "[-0.01730739188830563, 1.1589725888231985, 0.13229130052428828]"
            ]
          },
          "metadata": {
            "tags": []
          },
          "execution_count": 16
        }
      ]
    },
    {
      "cell_type": "code",
      "metadata": {
        "colab": {
          "base_uri": "https://localhost:8080/"
        },
        "id": "SHtXEqCOX_pc",
        "outputId": "95346eff-fa7d-4531-a85c-e39734ac82d4"
      },
      "source": [
        ""
      ],
      "execution_count": null,
      "outputs": [
        {
          "output_type": "stream",
          "text": [
            "[(-0.5572884063828795, -0.9790211177022003), (-0.1430477062280947, -0.22183633577863393), (-0.030765561330669766, 0.4746547105516705), (-0.403455423206484, 0.07738638988638225), (-0.38977146234733784, 0.6867409976449212), (-0.04196605729263103, -0.4084636501119965), (-0.8108968376322642, -0.08683363273486377), (-0.9526810135843461, -0.8197519020632189), (-0.35603521065668486, 0.1257682914905296), (-0.6074001620618806, 0.7248303061141317)]\n",
            "[]\n"
          ],
          "name": "stdout"
        }
      ]
    }
  ]
}